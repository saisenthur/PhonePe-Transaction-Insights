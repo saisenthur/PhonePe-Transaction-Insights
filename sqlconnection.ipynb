{
 "cells": [
  {
   "cell_type": "code",
   "execution_count": 1,
   "id": "07b390ce",
   "metadata": {},
   "outputs": [],
   "source": [
    "import pandas as pd\n",
    "import mysql\n",
    "from mysql import connector\n",
    "from urllib.parse import quote_plus"
   ]
  },
  {
   "cell_type": "code",
   "execution_count": 2,
   "id": "1e69d232",
   "metadata": {},
   "outputs": [
    {
     "name": "stdout",
     "output_type": "stream",
     "text": [
      "<mysql.connector.connection_cext.CMySQLConnection object at 0x0000028CBD4C5E80>\n"
     ]
    }
   ],
   "source": [
    "# Connecting VS Code and MySQL :\n",
    "\n",
    "con = connector.connect(\n",
    "    host=\"localhost\",\n",
    "    user=\"root\",\n",
    "    password=\"Saisenthur@13\",\n",
    "    )\n",
    "print(con)"
   ]
  },
  {
   "cell_type": "code",
   "execution_count": 3,
   "id": "0473f31a",
   "metadata": {},
   "outputs": [],
   "source": [
    "mycursor=con.cursor()"
   ]
  },
  {
   "cell_type": "code",
   "execution_count": 5,
   "id": "2b94eeba",
   "metadata": {},
   "outputs": [],
   "source": [
    "# Creating a Database :\n",
    "\n",
    "mycursor.execute(\"CREATE DATABASE PhonePe\")"
   ]
  },
  {
   "cell_type": "code",
   "execution_count": 4,
   "id": "66cf38e0",
   "metadata": {},
   "outputs": [],
   "source": [
    "mycursor.execute('USE PhonePe')"
   ]
  },
  {
   "cell_type": "code",
   "execution_count": null,
   "id": "3262b16c",
   "metadata": {},
   "outputs": [
    {
     "name": "stdout",
     "output_type": "stream",
     "text": [
      "✅ All 9 tables created successfully in MySQL.\n"
     ]
    }
   ],
   "source": [
    "#Table Creation :\n",
    "\n",
    "# 1. Aggregated Transaction\n",
    "mycursor.execute(\"\"\"\n",
    "CREATE TABLE IF NOT EXISTS Agg_Transaction (\n",
    "    State VARCHAR(50),\n",
    "    Year INT,\n",
    "    Quarter INT,\n",
    "    Transaction_type VARCHAR(50),\n",
    "    Count BIGINT,\n",
    "    Amount DOUBLE\n",
    ");\n",
    "\"\"\")\n",
    "\n",
    "# 2. Aggregated User\n",
    "mycursor.execute(\"\"\"\n",
    "CREATE TABLE IF NOT EXISTS Agg_User (\n",
    "    State VARCHAR(50),\n",
    "    Year INT,\n",
    "    Quarter INT,\n",
    "    Brand VARCHAR(50),\n",
    "    Count BIGINT,\n",
    "    Percentage DOUBLE\n",
    ");\n",
    "\"\"\")\n",
    "\n",
    "# 3. Aggregated Insurance\n",
    "mycursor.execute(\"\"\"\n",
    "CREATE TABLE IF NOT EXISTS Agg_Insurance (\n",
    "    State VARCHAR(50),\n",
    "    Year INT,\n",
    "    Quarter INT,\n",
    "    Count BIGINT,\n",
    "    Amount DOUBLE\n",
    ");\n",
    "\"\"\")\n",
    "\n",
    "# 4. Map Transaction\n",
    "mycursor.execute(\"\"\"\n",
    "CREATE TABLE IF NOT EXISTS Map_Transaction (\n",
    "    State VARCHAR(50),\n",
    "    Year INT,\n",
    "    Quarter INT,\n",
    "    District VARCHAR(100),\n",
    "    Count BIGINT,\n",
    "    Amount DOUBLE\n",
    ");\n",
    "\"\"\")\n",
    "\n",
    "# 5. Map User\n",
    "mycursor.execute(\"\"\"\n",
    "CREATE TABLE IF NOT EXISTS Map_User (\n",
    "    State VARCHAR(50),\n",
    "    Year INT,\n",
    "    Quarter INT,\n",
    "    District VARCHAR(100),\n",
    "    RegisteredUsers BIGINT,\n",
    "    AppOpens BIGINT\n",
    ");\n",
    "\"\"\")\n",
    "\n",
    "# 6. Map Insurance\n",
    "mycursor.execute(\"\"\"\n",
    "CREATE TABLE IF NOT EXISTS Map_Insurance (\n",
    "    State VARCHAR(50),\n",
    "    Year INT,\n",
    "    Quarter INT,\n",
    "    District VARCHAR(100),\n",
    "    Count BIGINT,\n",
    "    Amount DOUBLE\n",
    ");\n",
    "\"\"\")\n",
    "\n",
    "# 7. Top Transaction\n",
    "mycursor.execute(\"\"\"\n",
    "CREATE TABLE IF NOT EXISTS Top_Transaction (\n",
    "    State VARCHAR(50),\n",
    "    Year INT,\n",
    "    Quarter INT,\n",
    "    District VARCHAR(100),\n",
    "    Count BIGINT,\n",
    "    Amount DOUBLE\n",
    ");\n",
    "\"\"\")\n",
    "\n",
    "# 8. Top User\n",
    "mycursor.execute(\"\"\"\n",
    "CREATE TABLE IF NOT EXISTS Top_User (\n",
    "    State VARCHAR(50),\n",
    "    Year INT,\n",
    "    Quarter INT,\n",
    "    District VARCHAR(100),\n",
    "    RegisteredUsers BIGINT\n",
    ");\n",
    "\"\"\")\n",
    "\n",
    "# 9. Top Insurance\n",
    "mycursor.execute(\"\"\"\n",
    "CREATE TABLE IF NOT EXISTS Top_Insurance (\n",
    "    State VARCHAR(50),\n",
    "    Year INT,\n",
    "    Quarter INT,\n",
    "    District VARCHAR(100),\n",
    "    Count BIGINT,\n",
    "    Amount DOUBLE\n",
    ");\n",
    "\"\"\")\n",
    "\n",
    "# Commit the changes\n",
    "con.commit()\n",
    "print(\"All 9 tables created successfully in MySQL.\")\n"
   ]
  },
  {
   "cell_type": "code",
   "execution_count": 8,
   "id": "75388902",
   "metadata": {},
   "outputs": [],
   "source": [
    "df_agg_transaction = pd.read_csv(\"C:/Users/saisenthur/OneDrive/Desktop/Courses/Guvi/Data Science 2/projects/2_PhonePe Transaction Insights/CSV files/agg_transaction.csv\")\n",
    "df_agg_user = pd.read_csv(\"C:/Users/saisenthur/OneDrive/Desktop/Courses/Guvi/Data Science 2/projects/2_PhonePe Transaction Insights/CSV files/agg_user.csv\")\n",
    "df_agg_insurance = pd.read_csv(\"C:/Users/saisenthur/OneDrive/Desktop/Courses/Guvi/Data Science 2/projects/2_PhonePe Transaction Insights/CSV files/agg_insurance.csv\")\n",
    "df_map_transaction = pd.read_csv(\"C:/Users/saisenthur/OneDrive/Desktop/Courses/Guvi/Data Science 2/projects/2_PhonePe Transaction Insights/CSV files/map_transaction.csv\")\n",
    "df_map_user = pd.read_csv(\"C:/Users/saisenthur/OneDrive/Desktop/Courses/Guvi/Data Science 2/projects/2_PhonePe Transaction Insights/CSV files/map_user.csv\")\n",
    "df_map_insurance = pd.read_csv(\"C:/Users/saisenthur/OneDrive/Desktop/Courses/Guvi/Data Science 2/projects/2_PhonePe Transaction Insights/CSV files/map_insurance.csv\")\n",
    "df_top_transaction = pd.read_csv(\"C:/Users/saisenthur/OneDrive/Desktop/Courses/Guvi/Data Science 2/projects/2_PhonePe Transaction Insights/CSV files/top_transaction.csv\")\n",
    "df_top_user = pd.read_csv(\"C:/Users/saisenthur/OneDrive/Desktop/Courses/Guvi/Data Science 2/projects/2_PhonePe Transaction Insights/CSV files/top_user.csv\")\n",
    "df_top_insurance = pd.read_csv(\"C:/Users/saisenthur/OneDrive/Desktop/Courses/Guvi/Data Science 2/projects/2_PhonePe Transaction Insights/CSV files/top_insurance.csv\")"
   ]
  },
  {
   "cell_type": "code",
   "execution_count": 9,
   "id": "4aa7474a",
   "metadata": {},
   "outputs": [
    {
     "name": "stderr",
     "output_type": "stream",
     "text": [
      "C:\\Users\\saisenthur\\AppData\\Local\\Temp\\ipykernel_21892\\2060165868.py:13: UserWarning: The provided table name 'Agg_Transaction' is not found exactly as such in the database after writing the table, possibly due to case sensitivity issues. Consider using lower case table names.\n",
      "  df_agg_transaction.to_sql('Agg_Transaction', con=engine, if_exists='append', index=False)\n",
      "C:\\Users\\saisenthur\\AppData\\Local\\Temp\\ipykernel_21892\\2060165868.py:14: UserWarning: The provided table name 'Agg_user' is not found exactly as such in the database after writing the table, possibly due to case sensitivity issues. Consider using lower case table names.\n",
      "  df_agg_user.to_sql('Agg_user', con=engine, if_exists='append', index=False)\n",
      "C:\\Users\\saisenthur\\AppData\\Local\\Temp\\ipykernel_21892\\2060165868.py:15: UserWarning: The provided table name 'Agg_insurance' is not found exactly as such in the database after writing the table, possibly due to case sensitivity issues. Consider using lower case table names.\n",
      "  df_agg_insurance.to_sql('Agg_insurance', con=engine, if_exists='append', index=False)\n",
      "C:\\Users\\saisenthur\\AppData\\Local\\Temp\\ipykernel_21892\\2060165868.py:16: UserWarning: The provided table name 'Map_Transaction' is not found exactly as such in the database after writing the table, possibly due to case sensitivity issues. Consider using lower case table names.\n",
      "  df_map_transaction.to_sql('Map_Transaction', con=engine, if_exists='append', index=False)\n",
      "C:\\Users\\saisenthur\\AppData\\Local\\Temp\\ipykernel_21892\\2060165868.py:17: UserWarning: The provided table name 'Map_user' is not found exactly as such in the database after writing the table, possibly due to case sensitivity issues. Consider using lower case table names.\n",
      "  df_map_user.to_sql('Map_user', con=engine, if_exists='append', index=False)\n",
      "C:\\Users\\saisenthur\\AppData\\Local\\Temp\\ipykernel_21892\\2060165868.py:18: UserWarning: The provided table name 'Map_insurance' is not found exactly as such in the database after writing the table, possibly due to case sensitivity issues. Consider using lower case table names.\n",
      "  df_map_insurance.to_sql('Map_insurance', con=engine, if_exists='append', index=False)\n",
      "C:\\Users\\saisenthur\\AppData\\Local\\Temp\\ipykernel_21892\\2060165868.py:19: UserWarning: The provided table name 'Top_Transaction' is not found exactly as such in the database after writing the table, possibly due to case sensitivity issues. Consider using lower case table names.\n",
      "  df_top_transaction.to_sql('Top_Transaction', con=engine, if_exists='append', index=False)\n",
      "C:\\Users\\saisenthur\\AppData\\Local\\Temp\\ipykernel_21892\\2060165868.py:20: UserWarning: The provided table name 'Top_user' is not found exactly as such in the database after writing the table, possibly due to case sensitivity issues. Consider using lower case table names.\n",
      "  df_top_user.to_sql('Top_user', con=engine, if_exists='append', index=False)\n",
      "C:\\Users\\saisenthur\\AppData\\Local\\Temp\\ipykernel_21892\\2060165868.py:21: UserWarning: The provided table name 'Top_insurance' is not found exactly as such in the database after writing the table, possibly due to case sensitivity issues. Consider using lower case table names.\n",
      "  df_top_insurance.to_sql('Top_insurance', con=engine, if_exists='append', index=False)\n"
     ]
    },
    {
     "data": {
      "text/plain": [
       "5608"
      ]
     },
     "execution_count": 9,
     "metadata": {},
     "output_type": "execute_result"
    }
   ],
   "source": [
    "# Feeding the data into the tables created :\n",
    "\n",
    "from sqlalchemy import create_engine\n",
    "\n",
    "mysql_user = \"root\"         # Replace with your MySQL username\n",
    "mysql_password = quote_plus(\"Saisenthur@13\")     # Replace with your MySQL password\n",
    "mysql_host = \"localhost\"             # Replace with your MySQL host\n",
    "mysql_port = 3306                    # Default MySQL port\n",
    "mysql_db = \"PhonePe\"      # Replace with your database name\n",
    "\n",
    "engine = create_engine(f\"mysql+mysqlconnector://{mysql_user}:{mysql_password}@{mysql_host}:{mysql_port}/{mysql_db}\")\n",
    "\n",
    "df_agg_transaction.to_sql('Agg_Transaction', con=engine, if_exists='append', index=False)\n",
    "df_agg_user.to_sql('Agg_user', con=engine, if_exists='append', index=False)\n",
    "df_agg_insurance.to_sql('Agg_insurance', con=engine, if_exists='append', index=False)\n",
    "df_map_transaction.to_sql('Map_Transaction', con=engine, if_exists='append', index=False)\n",
    "df_map_user.to_sql('Map_user', con=engine, if_exists='append', index=False)\n",
    "df_map_insurance.to_sql('Map_insurance', con=engine, if_exists='append', index=False)\n",
    "df_top_transaction.to_sql('Top_Transaction', con=engine, if_exists='append', index=False)\n",
    "df_top_user.to_sql('Top_user', con=engine, if_exists='append', index=False)\n",
    "df_top_insurance.to_sql('Top_insurance', con=engine, if_exists='append', index=False)"
   ]
  },
  {
   "cell_type": "code",
   "execution_count": 5,
   "id": "5de8d625",
   "metadata": {},
   "outputs": [
    {
     "name": "stdout",
     "output_type": "stream",
     "text": [
      "All state names standardized.\n"
     ]
    }
   ],
   "source": [
    "state_mapping = {\n",
    "    \"andaman-&-nicobar-islands\": \"Andaman & Nicobar\",\n",
    "    \"andhra-pradesh\": \"Andhra Pradesh\",\n",
    "    \"arunachal-pradesh\": \"Arunachal Pradesh\",\n",
    "    \"assam\": \"Assam\",\n",
    "    \"bihar\": \"Bihar\",\n",
    "    \"chandigarh\": \"Chandigarh\",\n",
    "    \"chhattisgarh\": \"Chhattisgarh\",\n",
    "    \"dadra-&-nagar-haveli-&-daman-&-diu\": \"Dadra and Nagar Haveli and Daman and Diu\",\n",
    "    \"delhi\": \"Delhi\",\n",
    "    \"goa\": \"Goa\",\n",
    "    \"gujarat\": \"Gujarat\",\n",
    "    \"haryana\": \"Haryana\",\n",
    "    \"himachal-pradesh\": \"Himachal Pradesh\",\n",
    "    \"jammu-&-kashmir\": \"Jammu & Kashmir\",\n",
    "    \"jharkhand\": \"Jharkhand\",\n",
    "    \"karnataka\": \"Karnataka\",\n",
    "    \"kerala\": \"Kerala\",\n",
    "    \"ladakh\": \"Ladakh\",\n",
    "    \"lakshadweep\": \"Lakshadweep\",  # No corrected name provided, kept same\n",
    "    \"madhya-pradesh\": \"Madhya Pradesh\",\n",
    "    \"maharashtra\": \"Maharashtra\",\n",
    "    \"manipur\": \"Manipur\",\n",
    "    \"meghalaya\": \"Meghalaya\",\n",
    "    \"mizoram\": \"Mizoram\",\n",
    "    \"nagaland\": \"Nagaland\",\n",
    "    \"odisha\": \"Odisha\",\n",
    "    \"puducherry\": \"Puducherry\",\n",
    "    \"punjab\": \"Punjab\",\n",
    "    \"rajasthan\": \"Rajasthan\",\n",
    "    \"sikkim\": \"Sikkim\",\n",
    "    \"tamil-nadu\": \"Tamil Nadu\",\n",
    "    \"telangana\": \"Telangana\",\n",
    "    \"tripura\": \"Tripura\",\n",
    "    \"uttar-pradesh\": \"Uttar Pradesh\",  # These two were swapped\n",
    "    \"uttarakhand\": \"Uttarakhand\",\n",
    "    \"west-bengal\": \"West Bengal\"\n",
    "}\n",
    "\n",
    "# List of tables and the column where state is stored\n",
    "tables_with_state = [\n",
    "    \"agg_transaction\", \"agg_user\", \"agg_insurance\",\n",
    "    \"map_transaction\", \"map_user\", \"map_insurance\",\n",
    "    \"top_transaction\", \"top_user\", \"top_insurance\"\n",
    "]\n",
    "\n",
    "# Loop over each table and apply mapping\n",
    "for table in tables_with_state:\n",
    "    for wrong_name, correct_name in state_mapping.items():\n",
    "        sql = f\"UPDATE {table} SET State = %s WHERE State = %s\"\n",
    "        mycursor.execute(sql, (correct_name, wrong_name))\n",
    "\n",
    "con.commit()\n",
    "mycursor.close()\n",
    "con.close()\n",
    "print(\"All state names standardized.\")"
   ]
  }
 ],
 "metadata": {
  "kernelspec": {
   "display_name": "myenv",
   "language": "python",
   "name": "python3"
  },
  "language_info": {
   "codemirror_mode": {
    "name": "ipython",
    "version": 3
   },
   "file_extension": ".py",
   "mimetype": "text/x-python",
   "name": "python",
   "nbconvert_exporter": "python",
   "pygments_lexer": "ipython3",
   "version": "3.13.0"
  }
 },
 "nbformat": 4,
 "nbformat_minor": 5
}
